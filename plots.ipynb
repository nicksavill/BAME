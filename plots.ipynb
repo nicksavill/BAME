{
 "cells": [
  {
   "cell_type": "markdown",
   "metadata": {},
   "source": [
    "# Initialise"
   ]
  },
  {
   "cell_type": "code",
   "execution_count": null,
   "metadata": {},
   "outputs": [],
   "source": [
    "import pandas as pd\n",
    "import seaborn as sns\n",
    "import matplotlib.pyplot as plt\n",
    "\n",
    "a = pd.read_csv('course_marks.csv')\n",
    "b = pd.read_csv('awards.csv')\n",
    "\n",
    "a = a.rename(columns={'Fee_status':'Fee status'})\n",
    "b = b.rename(columns={'Fee_status':'Fee status'})\n",
    "\n",
    "# For plotting we work with average course marks rather than all course marks otherwise the\n",
    "# error bars will be too small. And also that is how the statistical models work by aggregating\n",
    "# by student ID\n",
    "\n",
    "# Order the categories\n",
    "ethnicity_order = ['White', 'Chinese', 'Mixed', 'Asian', 'Black']\n",
    "fee_status_order = ['EU', 'RestUK+RoI', 'Overseas', 'Scottish']\n",
    "\n",
    "# Convert Year so that the project has its own level called \"Project\"\n",
    "a['Year'] = a.apply(lambda x: 'Project' if x['Project'] else x['Year'], axis=1)\n",
    "\n",
    "# Get average marks for each student for each year/project.\n",
    "# Calculate the average White course mark by fee status and year and subtract that from all course marks\n",
    "ave_marks = a.groupby(['ID', 'Year'])['Mark'].mean()\n",
    "ave_marks = ave_marks.reset_index().merge(b, on=['ID'])\n",
    "\n",
    "white_mean_mark_by_year_by_fee = ave_marks.query('Ethnicity == \"White\"').groupby(['Year', 'Fee status'])['Mark'].mean().rename('Ave_Mark')\n",
    "ave_marks = ave_marks.merge(white_mean_mark_by_year_by_fee, on=['Year', 'Fee status'], how='left')\n",
    "ave_marks['Mark_rel_White'] = ave_marks['Mark'] - ave_marks['Ave_Mark']\n",
    "ave_marks = ave_marks.drop('Ave_Mark', axis=1)\n",
    "\n",
    "# Plotting order and styles \n",
    "colour_order = ['C0', 'C1', 'C2', 'C3']\n",
    "colours = dict([(s, c) for s, c in zip(fee_status_order, colour_order)])\n",
    "ls = ['-', '-.', ':', '--', '-']\n",
    "markers = list('ospv^')\n",
    "\n",
    "sns.set_style(\"whitegrid\")\n",
    "sns.set_context(\"talk\")\n",
    "\n",
    "import warnings\n",
    "from statsmodels.tools.sm_exceptions import ConvergenceWarning\n",
    "warnings.simplefilter('ignore', ConvergenceWarning)"
   ]
  },
  {
   "cell_type": "markdown",
   "metadata": {},
   "source": [
    "## Effect of ethinicity on course marks for each year of study"
   ]
  },
  {
   "cell_type": "code",
   "execution_count": null,
   "metadata": {},
   "outputs": [],
   "source": [
    "g = sns.catplot(y='Mark_rel_White', x='Year', kind='point', errwidth=1, ci=68, markers=markers, linestyles=ls, orient='v', data=ave_marks.query('ethnicity == \"BAME\"'))\n",
    "g.set_ylabels('non-EU BAME course mark\\nrelative to White')\n",
    "g.set_xticklabels(['$1^{st}$', '$2^{nd}$', '$3^{rd}$', '$4^{th}$', 'Honours\\nProject']);\n",
    "sns.despine(bottom=True)\n",
    "for ax in g.axes[0]:\n",
    "    ax.axhline(0, color='k', linewidth=2)"
   ]
  },
  {
   "cell_type": "markdown",
   "metadata": {},
   "source": [
    "Fig. 1 Effect of ethnicity on course and project marks relative to White of the same fee status by year of study. Error bars represent one standard error."
   ]
  },
  {
   "cell_type": "markdown",
   "metadata": {},
   "source": [
    "## Effect of ethnicity on 4th year course marks"
   ]
  },
  {
   "cell_type": "code",
   "execution_count": null,
   "metadata": {},
   "outputs": [],
   "source": [
    "ethnicity_order = ['Chinese', 'Mixed', 'Asian', 'Black']\n",
    "\n",
    "g = sns.catplot(y='Mark_rel_White', x='Ethnicity', col='Fee status', order=ethnicity_order, col_order=fee_status_order, kind='point', errwidth=1, ci=68, markers=markers, linestyles=ls, orient='v', data=ave_marks.query('ethnicity == \"BAME\" and Year == 4'))\n",
    "g.set_ylabels('4th year BAME mark\\nrelative to White');\n",
    "sns.despine(bottom=True)\n",
    "for ax in g.axes[0]:\n",
    "    ax.axhline(0, color='k', linewidth=2)"
   ]
  },
  {
   "cell_type": "markdown",
   "metadata": {},
   "source": [
    "Fig. 2 Effect of ethnicity and fee status on 4th year course marks (excluding Honours Project) relative to White of the same fee status. Error bars represent one standard error."
   ]
  },
  {
   "cell_type": "markdown",
   "metadata": {},
   "source": [
    "## Effect of ethnicity on Honours Project"
   ]
  },
  {
   "cell_type": "code",
   "execution_count": null,
   "metadata": {},
   "outputs": [],
   "source": [
    "ethnicity_order = ['Chinese', 'Mixed', 'Asian', 'Black']\n",
    "\n",
    "g = sns.catplot(y='Mark_rel_White', x='Ethnicity', col='Fee status', order=ethnicity_order, col_order=fee_status_order, kind='point', errwidth=1, ci=68, markers=markers, linestyles=ls, orient='v', data=ave_marks.query('ethnicity == \"BAME\" and Year == \"Project\"'))\n",
    "g.set_ylabels('BAME Project mark\\nrelative to White');\n",
    "g.set(ylim=(-25, None))\n",
    "sns.despine(bottom=True)\n",
    "for ax in g.axes[0]:\n",
    "    ax.axhline(0, color='k', linewidth=2)"
   ]
  },
  {
   "cell_type": "markdown",
   "metadata": {},
   "source": [
    "Fig. 3 Effect of ethnicity on Honours project marks relative to White of the same fee status. Error bars represent one standard error."
   ]
  },
  {
   "cell_type": "markdown",
   "metadata": {},
   "source": [
    "## Effect of ethnicity of percent high classifications"
   ]
  },
  {
   "cell_type": "code",
   "execution_count": null,
   "metadata": {},
   "outputs": [],
   "source": [
    "ethnicity_order = ['White', 'Mixed', 'Chinese', 'Asian', 'Black']\n",
    "\n",
    "y = 'Percent awarded 2i or 1st'\n",
    "\n",
    "p = b.groupby(['Ethnicity'])['high'].value_counts(normalize=True)\n",
    "p = p.mul(100)\n",
    "p = p.rename(y).reset_index()\n",
    "\n",
    "g = sns.catplot(x='Ethnicity', y=y, order=ethnicity_order, kind='point', color='C0', data=p.query('high == True'))\n",
    "g.set_xticklabels(rotation=30, ha='right');\n",
    "sns.despine(bottom=True)\n"
   ]
  },
  {
   "cell_type": "markdown",
   "metadata": {},
   "source": [
    "Fig. 4 Effect of ethnicity on percent high classification."
   ]
  },
  {
   "cell_type": "code",
   "execution_count": null,
   "metadata": {},
   "outputs": [],
   "source": [
    "t1 = pd.crosstab(b['Ethnicity'], b['Fee status'], margins=True)\n",
    "t2 = pd.crosstab(b['Ethnicity'], b['Fee status'], margins=True, normalize='columns')\n",
    "t1"
   ]
  },
  {
   "cell_type": "code",
   "execution_count": null,
   "metadata": {},
   "outputs": [],
   "source": [
    "year_order = [1, 2, 3, 4, 'Project']\n",
    "\n",
    "g = sns.catplot(x='Year', y='Mark', hue='Fee status', kind='point', errwidth=1, ci=68, dodge=True, markers=markers, linestyles=ls, order=year_order, hue_order=fee_status_order, palette=colours, data=ave_marks)\n",
    "g.set_ylabels('Course/Project Mark');\n",
    "g.set_xticklabels(['$1^{st}$', '$2^{nd}$', '$3^{rd}$', '$4^{th}$', 'Honours\\nProject']);\n",
    "sns.despine(bottom=True)\n",
    "\n",
    "# x = 'Fee status'\n",
    "# y = 'Percentage of students\\nawarded 2i or 1st'\n",
    "\n",
    "# p = b.groupby([x])['high'].value_counts(normalize=True)\n",
    "# p = p.mul(100)\n",
    "# p = p.rename(y).reset_index()\n",
    "\n",
    "# g = sns.catplot(x=x, y=y, order=fee_status_order, kind='point', data=p.query('high == True'))\n"
   ]
  }
 ],
 "metadata": {
  "kernelspec": {
   "display_name": "Python 3",
   "language": "python",
   "name": "python3"
  },
  "language_info": {
   "codemirror_mode": {
    "name": "ipython",
    "version": 3
   },
   "file_extension": ".py",
   "mimetype": "text/x-python",
   "name": "python",
   "nbconvert_exporter": "python",
   "pygments_lexer": "ipython3",
   "version": "3.8.3"
  }
 },
 "nbformat": 4,
 "nbformat_minor": 2
}
